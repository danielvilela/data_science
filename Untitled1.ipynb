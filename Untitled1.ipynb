{
  "nbformat": 4,
  "nbformat_minor": 0,
  "metadata": {
    "colab": {
      "name": "Untitled1.ipynb",
      "provenance": [],
      "authorship_tag": "ABX9TyM1PyvPcTet97weFJ0/SB9g",
      "include_colab_link": true
    },
    "kernelspec": {
      "name": "python3",
      "display_name": "Python 3"
    }
  },
  "cells": [
    {
      "cell_type": "markdown",
      "metadata": {
        "id": "view-in-github",
        "colab_type": "text"
      },
      "source": [
        "<a href=\"https://colab.research.google.com/github/danielvilela/data_science/blob/master/Untitled1.ipynb\" target=\"_parent\"><img src=\"https://colab.research.google.com/assets/colab-badge.svg\" alt=\"Open In Colab\"/></a>"
      ]
    },
    {
      "cell_type": "markdown",
      "metadata": {
        "id": "gZsoLONcTGeE",
        "colab_type": "text"
      },
      "source": [
        "# Semana Data Science\n",
        "\n",
        "**Principais bibliotecas em data science**\n",
        "\n",
        "* Biblioteca pandas\n",
        "* Biblioteca matplotlib\n",
        "* Biblioteca Seahorn\n"
      ]
    },
    {
      "cell_type": "code",
      "metadata": {
        "id": "yxH7BLIVTZse",
        "colab_type": "code",
        "colab": {}
      },
      "source": [
        "import pandas as pd\n",
        "import matplotlib.pyplot as plt\n",
        "import seaborn as sns\n",
        "\n",
        "sns.set_style()\n",
        "\n"
      ],
      "execution_count": 0,
      "outputs": []
    },
    {
      "cell_type": "code",
      "metadata": {
        "id": "fP60L1b6U4be",
        "colab_type": "code",
        "colab": {}
      },
      "source": [
        "# Importar o arquivo listings.csv para um DataFrame\n",
        "url = \"http://data.insideairbnb.com/brazil/rj/rio-de-janeiro/2019-11-22/visualisations/listings.csv\"\n",
        "\n",
        "df = pd.read_csv(url)"
      ],
      "execution_count": 0,
      "outputs": []
    },
    {
      "cell_type": "markdown",
      "metadata": {
        "id": "2r1p0JxnVgjs",
        "colab_type": "text"
      },
      "source": [
        "**Dicionário de váriaveis**\n",
        "\n",
        "`dsad`"
      ]
    },
    {
      "cell_type": "code",
      "metadata": {
        "id": "KjSkBPd7VRPb",
        "colab_type": "code",
        "outputId": "586c5907-a093-4ccf-8bcc-98ee56ed1ff2",
        "colab": {
          "base_uri": "https://localhost:8080/",
          "height": 445
        }
      },
      "source": [
        "df.head() #Mostra o cabeçalho ou as 5 primeiras entradas"
      ],
      "execution_count": 0,
      "outputs": [
        {
          "output_type": "execute_result",
          "data": {
            "text/html": [
              "<div>\n",
              "<style scoped>\n",
              "    .dataframe tbody tr th:only-of-type {\n",
              "        vertical-align: middle;\n",
              "    }\n",
              "\n",
              "    .dataframe tbody tr th {\n",
              "        vertical-align: top;\n",
              "    }\n",
              "\n",
              "    .dataframe thead th {\n",
              "        text-align: right;\n",
              "    }\n",
              "</style>\n",
              "<table border=\"1\" class=\"dataframe\">\n",
              "  <thead>\n",
              "    <tr style=\"text-align: right;\">\n",
              "      <th></th>\n",
              "      <th>id</th>\n",
              "      <th>name</th>\n",
              "      <th>host_id</th>\n",
              "      <th>host_name</th>\n",
              "      <th>neighbourhood_group</th>\n",
              "      <th>neighbourhood</th>\n",
              "      <th>latitude</th>\n",
              "      <th>longitude</th>\n",
              "      <th>room_type</th>\n",
              "      <th>price</th>\n",
              "      <th>minimum_nights</th>\n",
              "      <th>number_of_reviews</th>\n",
              "      <th>last_review</th>\n",
              "      <th>reviews_per_month</th>\n",
              "      <th>calculated_host_listings_count</th>\n",
              "      <th>availability_365</th>\n",
              "    </tr>\n",
              "  </thead>\n",
              "  <tbody>\n",
              "    <tr>\n",
              "      <th>0</th>\n",
              "      <td>17878</td>\n",
              "      <td>Very Nice 2Br - Copacabana - WiFi</td>\n",
              "      <td>68997</td>\n",
              "      <td>Matthias</td>\n",
              "      <td>NaN</td>\n",
              "      <td>Copacabana</td>\n",
              "      <td>-22.96592</td>\n",
              "      <td>-43.17896</td>\n",
              "      <td>Entire home/apt</td>\n",
              "      <td>332</td>\n",
              "      <td>4</td>\n",
              "      <td>243</td>\n",
              "      <td>2019-11-11</td>\n",
              "      <td>2.13</td>\n",
              "      <td>1</td>\n",
              "      <td>303</td>\n",
              "    </tr>\n",
              "    <tr>\n",
              "      <th>1</th>\n",
              "      <td>25026</td>\n",
              "      <td>Beautiful Modern Decorated Studio in Copa</td>\n",
              "      <td>102840</td>\n",
              "      <td>Viviane</td>\n",
              "      <td>NaN</td>\n",
              "      <td>Copacabana</td>\n",
              "      <td>-22.97712</td>\n",
              "      <td>-43.19045</td>\n",
              "      <td>Entire home/apt</td>\n",
              "      <td>160</td>\n",
              "      <td>7</td>\n",
              "      <td>235</td>\n",
              "      <td>2019-10-08</td>\n",
              "      <td>2.04</td>\n",
              "      <td>3</td>\n",
              "      <td>119</td>\n",
              "    </tr>\n",
              "    <tr>\n",
              "      <th>2</th>\n",
              "      <td>31560</td>\n",
              "      <td>NICE &amp; COZY 1BDR - IPANEMA BEACH</td>\n",
              "      <td>135635</td>\n",
              "      <td>Renata</td>\n",
              "      <td>NaN</td>\n",
              "      <td>Ipanema</td>\n",
              "      <td>-22.98302</td>\n",
              "      <td>-43.21427</td>\n",
              "      <td>Entire home/apt</td>\n",
              "      <td>273</td>\n",
              "      <td>2</td>\n",
              "      <td>271</td>\n",
              "      <td>2019-11-21</td>\n",
              "      <td>2.38</td>\n",
              "      <td>1</td>\n",
              "      <td>88</td>\n",
              "    </tr>\n",
              "    <tr>\n",
              "      <th>3</th>\n",
              "      <td>35636</td>\n",
              "      <td>Cosy flat close to Ipanema beach</td>\n",
              "      <td>153232</td>\n",
              "      <td>Patricia</td>\n",
              "      <td>NaN</td>\n",
              "      <td>Ipanema</td>\n",
              "      <td>-22.98816</td>\n",
              "      <td>-43.19359</td>\n",
              "      <td>Entire home/apt</td>\n",
              "      <td>378</td>\n",
              "      <td>2</td>\n",
              "      <td>169</td>\n",
              "      <td>2019-11-13</td>\n",
              "      <td>2.28</td>\n",
              "      <td>1</td>\n",
              "      <td>85</td>\n",
              "    </tr>\n",
              "    <tr>\n",
              "      <th>4</th>\n",
              "      <td>35764</td>\n",
              "      <td>COPACABANA SEA BREEZE  -  RIO - 20 X Superhost</td>\n",
              "      <td>153691</td>\n",
              "      <td>Patricia Miranda &amp; Paulo</td>\n",
              "      <td>NaN</td>\n",
              "      <td>Copacabana</td>\n",
              "      <td>-22.98127</td>\n",
              "      <td>-43.19046</td>\n",
              "      <td>Entire home/apt</td>\n",
              "      <td>130</td>\n",
              "      <td>3</td>\n",
              "      <td>316</td>\n",
              "      <td>2019-11-16</td>\n",
              "      <td>2.84</td>\n",
              "      <td>1</td>\n",
              "      <td>128</td>\n",
              "    </tr>\n",
              "  </tbody>\n",
              "</table>\n",
              "</div>"
            ],
            "text/plain": [
              "      id  ... availability_365\n",
              "0  17878  ...              303\n",
              "1  25026  ...              119\n",
              "2  31560  ...               88\n",
              "3  35636  ...               85\n",
              "4  35764  ...              128\n",
              "\n",
              "[5 rows x 16 columns]"
            ]
          },
          "metadata": {
            "tags": []
          },
          "execution_count": 15
        }
      ]
    },
    {
      "cell_type": "code",
      "metadata": {
        "id": "AClsPm9WVST8",
        "colab_type": "code",
        "outputId": "f3545b44-499c-4fd5-c5b1-d45f5a666fa4",
        "colab": {
          "base_uri": "https://localhost:8080/",
          "height": 34
        }
      },
      "source": [
        "df.shape #Identificar volume de dados do DataFrame (33mil casas em 16 colunas)"
      ],
      "execution_count": 0,
      "outputs": [
        {
          "output_type": "execute_result",
          "data": {
            "text/plain": [
              "(33715, 16)"
            ]
          },
          "metadata": {
            "tags": []
          },
          "execution_count": 17
        }
      ]
    },
    {
      "cell_type": "code",
      "metadata": {
        "id": "CMXOFqMYVxSe",
        "colab_type": "code",
        "outputId": "beac8bd0-dc40-4f55-d938-53b5891b2c9d",
        "colab": {
          "base_uri": "https://localhost:8080/",
          "height": 306
        }
      },
      "source": [
        "df.isnull().sum()"
      ],
      "execution_count": 0,
      "outputs": [
        {
          "output_type": "execute_result",
          "data": {
            "text/plain": [
              "id                                    0\n",
              "name                                 61\n",
              "host_id                               0\n",
              "host_name                            20\n",
              "neighbourhood_group               33715\n",
              "neighbourhood                         0\n",
              "latitude                              0\n",
              "longitude                             0\n",
              "room_type                             0\n",
              "price                                 0\n",
              "minimum_nights                        0\n",
              "number_of_reviews                     0\n",
              "last_review                       14566\n",
              "reviews_per_month                 14566\n",
              "calculated_host_listings_count        0\n",
              "availability_365                      0\n",
              "dtype: int64"
            ]
          },
          "metadata": {
            "tags": []
          },
          "execution_count": 18
        }
      ]
    },
    {
      "cell_type": "code",
      "metadata": {
        "id": "zJHEcEHZWFxi",
        "colab_type": "code",
        "outputId": "cd576346-bc34-4e66-fbad-8e1f8b20cae6",
        "colab": {
          "base_uri": "https://localhost:8080/",
          "height": 306
        }
      },
      "source": [
        "df.isnull().sum()/ df.shape[0] #ver em porcentagem"
      ],
      "execution_count": 0,
      "outputs": [
        {
          "output_type": "execute_result",
          "data": {
            "text/plain": [
              "id                                0.000000\n",
              "name                              0.001809\n",
              "host_id                           0.000000\n",
              "host_name                         0.000593\n",
              "neighbourhood_group               1.000000\n",
              "neighbourhood                     0.000000\n",
              "latitude                          0.000000\n",
              "longitude                         0.000000\n",
              "room_type                         0.000000\n",
              "price                             0.000000\n",
              "minimum_nights                    0.000000\n",
              "number_of_reviews                 0.000000\n",
              "last_review                       0.432033\n",
              "reviews_per_month                 0.432033\n",
              "calculated_host_listings_count    0.000000\n",
              "availability_365                  0.000000\n",
              "dtype: float64"
            ]
          },
          "metadata": {
            "tags": []
          },
          "execution_count": 21
        }
      ]
    },
    {
      "cell_type": "code",
      "metadata": {
        "id": "DrQKQC0pWJOt",
        "colab_type": "code",
        "outputId": "11df4b29-beef-4b1d-d401-df3dfaa8a2a7",
        "colab": {
          "base_uri": "https://localhost:8080/",
          "height": 848
        }
      },
      "source": [
        "df.hist(figsize=(15,10))"
      ],
      "execution_count": 0,
      "outputs": [
        {
          "output_type": "execute_result",
          "data": {
            "text/plain": [
              "array([[<matplotlib.axes._subplots.AxesSubplot object at 0x7f278d2c8c50>,\n",
              "        <matplotlib.axes._subplots.AxesSubplot object at 0x7f278d21f198>,\n",
              "        <matplotlib.axes._subplots.AxesSubplot object at 0x7f278d1c7710>],\n",
              "       [<matplotlib.axes._subplots.AxesSubplot object at 0x7f278d174cc0>,\n",
              "        <matplotlib.axes._subplots.AxesSubplot object at 0x7f278d12e2b0>,\n",
              "        <matplotlib.axes._subplots.AxesSubplot object at 0x7f278d15a860>],\n",
              "       [<matplotlib.axes._subplots.AxesSubplot object at 0x7f278d109e10>,\n",
              "        <matplotlib.axes._subplots.AxesSubplot object at 0x7f278d0c4438>,\n",
              "        <matplotlib.axes._subplots.AxesSubplot object at 0x7f278d0c4470>],\n",
              "       [<matplotlib.axes._subplots.AxesSubplot object at 0x7f278d0a3f60>,\n",
              "        <matplotlib.axes._subplots.AxesSubplot object at 0x7f278d061550>,\n",
              "        <matplotlib.axes._subplots.AxesSubplot object at 0x7f278d012b00>]],\n",
              "      dtype=object)"
            ]
          },
          "metadata": {
            "tags": []
          },
          "execution_count": 26
        },
        {
          "output_type": "display_data",
          "data": {
            "image/png": "[encoded data removed]",
            "text/plain": [
              "<Figure size 1080x720 with 12 Axes>"
            ]
          },
          "metadata": {
            "tags": []
          }
        }
      ]
    },
    {
      "cell_type": "code",
      "metadata": {
        "id": "a8ks4OAUWXFO",
        "colab_type": "code",
        "outputId": "953e3951-e0da-4303-adb3-f886c330ac77",
        "colab": {
          "base_uri": "https://localhost:8080/",
          "height": 317
        }
      },
      "source": [
        "df.describe()"
      ],
      "execution_count": 0,
      "outputs": [
        {
          "output_type": "execute_result",
          "data": {
            "text/html": [
              "<div>\n",
              "<style scoped>\n",
              "    .dataframe tbody tr th:only-of-type {\n",
              "        vertical-align: middle;\n",
              "    }\n",
              "\n",
              "    .dataframe tbody tr th {\n",
              "        vertical-align: top;\n",
              "    }\n",
              "\n",
              "    .dataframe thead th {\n",
              "        text-align: right;\n",
              "    }\n",
              "</style>\n",
              "<table border=\"1\" class=\"dataframe\">\n",
              "  <thead>\n",
              "    <tr style=\"text-align: right;\">\n",
              "      <th></th>\n",
              "      <th>id</th>\n",
              "      <th>host_id</th>\n",
              "      <th>neighbourhood_group</th>\n",
              "      <th>latitude</th>\n",
              "      <th>longitude</th>\n",
              "      <th>price</th>\n",
              "      <th>minimum_nights</th>\n",
              "      <th>number_of_reviews</th>\n",
              "      <th>reviews_per_month</th>\n",
              "      <th>calculated_host_listings_count</th>\n",
              "      <th>availability_365</th>\n",
              "    </tr>\n",
              "  </thead>\n",
              "  <tbody>\n",
              "    <tr>\n",
              "      <th>count</th>\n",
              "      <td>3.371500e+04</td>\n",
              "      <td>3.371500e+04</td>\n",
              "      <td>0.0</td>\n",
              "      <td>33715.000000</td>\n",
              "      <td>33715.000000</td>\n",
              "      <td>33715.000000</td>\n",
              "      <td>33715.000000</td>\n",
              "      <td>33715.000000</td>\n",
              "      <td>19149.000000</td>\n",
              "      <td>33715.000000</td>\n",
              "      <td>33715.000000</td>\n",
              "    </tr>\n",
              "    <tr>\n",
              "      <th>mean</th>\n",
              "      <td>1.837737e+07</td>\n",
              "      <td>7.333110e+07</td>\n",
              "      <td>NaN</td>\n",
              "      <td>-22.965208</td>\n",
              "      <td>-43.254228</td>\n",
              "      <td>651.860537</td>\n",
              "      <td>4.789826</td>\n",
              "      <td>9.374344</td>\n",
              "      <td>0.707232</td>\n",
              "      <td>5.996292</td>\n",
              "      <td>177.956251</td>\n",
              "    </tr>\n",
              "    <tr>\n",
              "      <th>std</th>\n",
              "      <td>1.182836e+07</td>\n",
              "      <td>7.577773e+07</td>\n",
              "      <td>NaN</td>\n",
              "      <td>0.035244</td>\n",
              "      <td>0.097488</td>\n",
              "      <td>1695.447098</td>\n",
              "      <td>22.640328</td>\n",
              "      <td>24.815311</td>\n",
              "      <td>0.927453</td>\n",
              "      <td>20.303420</td>\n",
              "      <td>149.766863</td>\n",
              "    </tr>\n",
              "    <tr>\n",
              "      <th>min</th>\n",
              "      <td>1.787800e+04</td>\n",
              "      <td>1.173900e+04</td>\n",
              "      <td>NaN</td>\n",
              "      <td>-23.073400</td>\n",
              "      <td>-43.737090</td>\n",
              "      <td>0.000000</td>\n",
              "      <td>1.000000</td>\n",
              "      <td>0.000000</td>\n",
              "      <td>0.010000</td>\n",
              "      <td>1.000000</td>\n",
              "      <td>0.000000</td>\n",
              "    </tr>\n",
              "    <tr>\n",
              "      <th>25%</th>\n",
              "      <td>1.026686e+07</td>\n",
              "      <td>1.431560e+07</td>\n",
              "      <td>NaN</td>\n",
              "      <td>-22.984710</td>\n",
              "      <td>-43.323360</td>\n",
              "      <td>151.000000</td>\n",
              "      <td>1.000000</td>\n",
              "      <td>0.000000</td>\n",
              "      <td>0.110000</td>\n",
              "      <td>1.000000</td>\n",
              "      <td>0.000000</td>\n",
              "    </tr>\n",
              "    <tr>\n",
              "      <th>50%</th>\n",
              "      <td>1.425308e+07</td>\n",
              "      <td>5.277714e+07</td>\n",
              "      <td>NaN</td>\n",
              "      <td>-22.970850</td>\n",
              "      <td>-43.200220</td>\n",
              "      <td>290.000000</td>\n",
              "      <td>2.000000</td>\n",
              "      <td>1.000000</td>\n",
              "      <td>0.340000</td>\n",
              "      <td>1.000000</td>\n",
              "      <td>165.000000</td>\n",
              "    </tr>\n",
              "    <tr>\n",
              "      <th>75%</th>\n",
              "      <td>2.991364e+07</td>\n",
              "      <td>9.143910e+07</td>\n",
              "      <td>NaN</td>\n",
              "      <td>-22.946725</td>\n",
              "      <td>-43.187085</td>\n",
              "      <td>600.000000</td>\n",
              "      <td>4.000000</td>\n",
              "      <td>6.000000</td>\n",
              "      <td>0.980000</td>\n",
              "      <td>3.000000</td>\n",
              "      <td>350.000000</td>\n",
              "    </tr>\n",
              "    <tr>\n",
              "      <th>max</th>\n",
              "      <td>4.029091e+07</td>\n",
              "      <td>3.111796e+08</td>\n",
              "      <td>NaN</td>\n",
              "      <td>-22.750380</td>\n",
              "      <td>-43.104060</td>\n",
              "      <td>41982.000000</td>\n",
              "      <td>1123.000000</td>\n",
              "      <td>372.000000</td>\n",
              "      <td>10.080000</td>\n",
              "      <td>205.000000</td>\n",
              "      <td>365.000000</td>\n",
              "    </tr>\n",
              "  </tbody>\n",
              "</table>\n",
              "</div>"
            ],
            "text/plain": [
              "                 id  ...  availability_365\n",
              "count  3.371500e+04  ...      33715.000000\n",
              "mean   1.837737e+07  ...        177.956251\n",
              "std    1.182836e+07  ...        149.766863\n",
              "min    1.787800e+04  ...          0.000000\n",
              "25%    1.026686e+07  ...          0.000000\n",
              "50%    1.425308e+07  ...        165.000000\n",
              "75%    2.991364e+07  ...        350.000000\n",
              "max    4.029091e+07  ...        365.000000\n",
              "\n",
              "[8 rows x 11 columns]"
            ]
          },
          "metadata": {
            "tags": []
          },
          "execution_count": 27
        }
      ]
    },
    {
      "cell_type": "code",
      "metadata": {
        "id": "2lPcDdFQXJbY",
        "colab_type": "code",
        "colab": {}
      },
      "source": [
        ""
      ],
      "execution_count": 0,
      "outputs": []
    }
  ]
}